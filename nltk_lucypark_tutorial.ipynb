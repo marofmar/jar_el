{
 "cells": [
  {
   "cell_type": "code",
   "execution_count": 1,
   "metadata": {
    "collapsed": true
   },
   "outputs": [],
   "source": [
    "from nltk.corpus import gutenberg   "
   ]
  },
  {
   "cell_type": "code",
   "execution_count": 2,
   "metadata": {
    "collapsed": true
   },
   "outputs": [],
   "source": [
    "files_en = gutenberg.fileids()  "
   ]
  },
  {
   "cell_type": "code",
   "execution_count": 3,
   "metadata": {
    "collapsed": true
   },
   "outputs": [],
   "source": [
    "doc_en = gutenberg.open('austen-emma.txt').read()"
   ]
  },
  {
   "cell_type": "code",
   "execution_count": 4,
   "metadata": {
    "collapsed": true
   },
   "outputs": [],
   "source": [
    "from nltk import regexp_tokenize"
   ]
  },
  {
   "cell_type": "code",
   "execution_count": 5,
   "metadata": {
    "collapsed": true
   },
   "outputs": [],
   "source": [
    "pattern = r'''(?x) ([A-Z]\\.)+ | \\w+(-\\w+)* | \\$?\\d+(\\.\\d+)?%? | \\.\\.\\. | [][.,;\"'?():-_`]'''"
   ]
  },
  {
   "cell_type": "code",
   "execution_count": 6,
   "metadata": {
    "collapsed": true
   },
   "outputs": [],
   "source": [
    "tokens_en = regexp_tokenize(doc_en, pattern)\n"
   ]
  },
  {
   "cell_type": "code",
   "execution_count": 10,
   "metadata": {
    "collapsed": true
   },
   "outputs": [],
   "source": [
    "import nltk\n",
    "en = nltk.Text(tokens_en)"
   ]
  },
  {
   "cell_type": "code",
   "execution_count": 12,
   "metadata": {},
   "outputs": [
    {
     "name": "stdout",
     "output_type": "stream",
     "text": [
      "191061\n",
      "232\n"
     ]
    },
    {
     "data": {
      "text/plain": [
       "FreqDist({('', '', ''): 190496,\n",
       "          ('', '-Churchill', ''): 1,\n",
       "          ('', '-Hart_', ''): 1,\n",
       "          ('', '-JULY', ''): 1,\n",
       "          ('', '-Mill', ''): 7,\n",
       "          ('', '-Weston', ''): 1,\n",
       "          ('', '-able', ''): 1,\n",
       "          ('', '-aches', ''): 1,\n",
       "          ('', '-all', ''): 1,\n",
       "          ('', '-approbation', ''): 2,\n",
       "          ('', '-arm', ''): 1,\n",
       "          ('', '-arrangement', ''): 1,\n",
       "          ('', '-ashamed', ''): 1,\n",
       "          ('', '-assorted', ''): 1,\n",
       "          ('', '-back', ''): 1,\n",
       "          ('', '-baits', ''): 1,\n",
       "          ('', '-baked', ''): 1,\n",
       "          ('', '-bathing', ''): 2,\n",
       "          ('', '-be', ''): 1,\n",
       "          ('', '-beds', ''): 3,\n",
       "          ('', '-beer', ''): 4,\n",
       "          ('', '-behaved', ''): 2,\n",
       "          ('', '-bestowed', ''): 1,\n",
       "          ('', '-betweens', ''): 1,\n",
       "          ('', '-blanche', ''): 1,\n",
       "          ('', '-boarder', ''): 3,\n",
       "          ('', '-book', ''): 2,\n",
       "          ('', '-boot', ''): 1,\n",
       "          ('', '-boy', ''): 1,\n",
       "          ('', '-bred', ''): 3,\n",
       "          ('', '-breeding', ''): 2,\n",
       "          ('', '-built', ''): 1,\n",
       "          ('', '-by', ''): 2,\n",
       "          ('', '-bye', ''): 3,\n",
       "          ('', '-cake', ''): 5,\n",
       "          ('', '-cakes', ''): 1,\n",
       "          ('', '-candles', ''): 1,\n",
       "          ('', '-careful', ''): 1,\n",
       "          ('', '-chamber', ''): 1,\n",
       "          ('', '-circle', ''): 1,\n",
       "          ('', '-club', ''): 1,\n",
       "          ('', '-colours', ''): 2,\n",
       "          ('', '-command', ''): 5,\n",
       "          ('', '-company', ''): 1,\n",
       "          ('', '-consequence', ''): 1,\n",
       "          ('', '-contentment', ''): 1,\n",
       "          ('', '-controul', ''): 1,\n",
       "          ('', '-craig', ''): 1,\n",
       "          ('', '-curtain', ''): 1,\n",
       "          ('', '-dance', ''): 1,\n",
       "          ('', '-dances', ''): 1,\n",
       "          ('', '-day', ''): 31,\n",
       "          ('', '-deceived', ''): 1,\n",
       "          ('', '-declined', ''): 1,\n",
       "          ('', '-denial', ''): 1,\n",
       "          ('', '-denying', ''): 1,\n",
       "          ('', '-desk', ''): 2,\n",
       "          ('', '-disposed', ''): 1,\n",
       "          ('', '-doing', ''): 1,\n",
       "          ('', '-door', ''): 3,\n",
       "          ('', '-draper', ''): 3,\n",
       "          ('', '-dumpling', ''): 1,\n",
       "          ('', '-dumplings', ''): 1,\n",
       "          ('', '-dyed', ''): 1,\n",
       "          ('', '-east', ''): 1,\n",
       "          ('', '-eight', ''): 1,\n",
       "          ('', '-equipped', ''): 1,\n",
       "          ('', '-errantry', ''): 1,\n",
       "          ('', '-estate', ''): 1,\n",
       "          ('', '-examination', ''): 1,\n",
       "          ('', '-existence', ''): 1,\n",
       "          ('', '-expectant', ''): 1,\n",
       "          ('', '-fact', ''): 1,\n",
       "          ('', '-fame', ''): 1,\n",
       "          ('', '-farm', ''): 1,\n",
       "          ('', '-farmer', ''): 1,\n",
       "          ('', '-fashioned', ''): 2,\n",
       "          ('', '-father', ''): 1,\n",
       "          ('', '-felt', ''): 1,\n",
       "          ('', '-fever', ''): 1,\n",
       "          ('', '-five', ''): 2,\n",
       "          ('', '-four', ''): 3,\n",
       "          ('', '-fresco', ''): 1,\n",
       "          ('', '-furnished', ''): 1,\n",
       "          ('', '-gammon', ''): 1,\n",
       "          ('', '-gate', ''): 3,\n",
       "          ('', '-gentlemen', ''): 1,\n",
       "          ('', '-girl', ''): 1,\n",
       "          ('', '-glance', ''): 1,\n",
       "          ('', '-glass', ''): 1,\n",
       "          ('', '-grown', ''): 1,\n",
       "          ('', '-hand', ''): 1,\n",
       "          ('', '-headed', ''): 2,\n",
       "          ('', '-health', ''): 4,\n",
       "          ('', '-hearted', ''): 12,\n",
       "          ('', '-heartedness', ''): 1,\n",
       "          ('', '-horse', ''): 1,\n",
       "          ('', '-horses', ''): 2,\n",
       "          ('', '-hour', ''): 6,\n",
       "          ('', '-house', ''): 3,\n",
       "          ('', '-humour', ''): 7,\n",
       "          ('', '-humoured', ''): 6,\n",
       "          ('', '-humouredly', ''): 2,\n",
       "          ('', '-important', ''): 1,\n",
       "          ('', '-informed', ''): 3,\n",
       "          ('', '-ing', ''): 1,\n",
       "          ('', '-interest', ''): 1,\n",
       "          ('', '-judged', ''): 2,\n",
       "          ('', '-judging', ''): 3,\n",
       "          ('', '-judgment', ''): 1,\n",
       "          ('', '-known', ''): 2,\n",
       "          ('', '-land', ''): 1,\n",
       "          ('', '-landau', ''): 7,\n",
       "          ('', '-lashes', ''): 2,\n",
       "          ('', '-law', ''): 12,\n",
       "          ('', '-length', ''): 2,\n",
       "          ('', '-lengths', ''): 2,\n",
       "          ('', '-like', ''): 3,\n",
       "          ('', '-looking', ''): 7,\n",
       "          ('', '-luck', ''): 1,\n",
       "          ('', '-ma', ''): 1,\n",
       "          ('', '-maids', ''): 1,\n",
       "          ('', '-making', ''): 6,\n",
       "          ('', '-mama', ''): 1,\n",
       "          ('', '-master', ''): 1,\n",
       "          ('', '-meaning', ''): 4,\n",
       "          ('', '-minded', ''): 3,\n",
       "          ('', '-morrow', ''): 27,\n",
       "          ('', '-morrows', ''): 2,\n",
       "          ('', '-mourners', ''): 1,\n",
       "          ('', '-moving', ''): 1,\n",
       "          ('', '-nature', ''): 4,\n",
       "          ('', '-natured', ''): 6,\n",
       "          ('', '-night', ''): 1,\n",
       "          ('', '-nights', ''): 1,\n",
       "          ('', '-nine', ''): 1,\n",
       "          ('', '-nothing', ''): 1,\n",
       "          ('', '-off', ''): 1,\n",
       "          ('', '-office', ''): 8,\n",
       "          ('', '-on', ''): 1,\n",
       "          ('', '-one', ''): 1,\n",
       "          ('', '-out', ''): 4,\n",
       "          ('', '-pace', ''): 1,\n",
       "          ('', '-pan', ''): 1,\n",
       "          ('', '-parlour', ''): 1,\n",
       "          ('', '-parties', ''): 6,\n",
       "          ('', '-party', ''): 2,\n",
       "          ('', '-people', ''): 1,\n",
       "          ('', '-pieces', ''): 1,\n",
       "          ('', '-pies', ''): 1,\n",
       "          ('', '-place', ''): 3,\n",
       "          ('', '-plaister', ''): 9,\n",
       "          ('', '-players', ''): 1,\n",
       "          ('', '-plot', ''): 1,\n",
       "          ('', '-ponds', ''): 1,\n",
       "          ('', '-powered', ''): 2,\n",
       "          ('', '-present', ''): 1,\n",
       "          ('', '-pressed', ''): 1,\n",
       "          ('', '-quarter', ''): 2,\n",
       "          ('', '-quarters', ''): 2,\n",
       "          ('', '-rate', ''): 6,\n",
       "          ('', '-ridden', ''): 1,\n",
       "          ('', '-ringing', ''): 1,\n",
       "          ('', '-room', ''): 34,\n",
       "          ('', '-root', ''): 1,\n",
       "          ('', '-salt', ''): 1,\n",
       "          ('', '-salted', ''): 1,\n",
       "          ('', '-satisfied', ''): 1,\n",
       "          ('', '-school', ''): 1,\n",
       "          ('', '-screen', ''): 1,\n",
       "          ('', '-second', ''): 1,\n",
       "          ('', '-seven', ''): 1,\n",
       "          ('', '-shortening', ''): 1,\n",
       "          ('', '-sighted', ''): 2,\n",
       "          ('', '-sized', ''): 4,\n",
       "          ('', '-so', ''): 1,\n",
       "          ('', '-spoken', ''): 1,\n",
       "          ('', '-standing', ''): 2,\n",
       "          ('', '-street', ''): 3,\n",
       "          ('', '-stricken', ''): 1,\n",
       "          ('', '-struck', ''): 1,\n",
       "          ('', '-sufficiency', ''): 1,\n",
       "          ('', '-syllables', ''): 1,\n",
       "          ('', '-table', ''): 3,\n",
       "          ('', '-tables', ''): 1,\n",
       "          ('', '-taking', ''): 2,\n",
       "          ('', '-tart', ''): 1,\n",
       "          ('', '-tarts', ''): 1,\n",
       "          ('', '-tattle', ''): 1,\n",
       "          ('', '-teacher', ''): 1,\n",
       "          ('', '-temper', ''): 1,\n",
       "          ('', '-tempered', ''): 9,\n",
       "          ('', '-tete', ''): 4,\n",
       "          ('', '-thirty', ''): 2,\n",
       "          ('', '-throat', ''): 1,\n",
       "          ('', '-throats', ''): 1,\n",
       "          ('', '-throw', ''): 1,\n",
       "          ('', '-tied', ''): 1,\n",
       "          ('', '-time', ''): 2,\n",
       "          ('', '-timed', ''): 1,\n",
       "          ('', '-to', ''): 1,\n",
       "          ('', '-trade', ''): 3,\n",
       "          ('', '-trees', ''): 1,\n",
       "          ('', '-trimmed', ''): 2,\n",
       "          ('', '-twenty', ''): 16,\n",
       "          ('', '-up', ''): 4,\n",
       "          ('', '-urged', ''): 1,\n",
       "          ('', '-usage', ''): 2,\n",
       "          ('', '-visit', ''): 1,\n",
       "          ('', '-visiting', ''): 1,\n",
       "          ('', '-walk', ''): 1,\n",
       "          ('', '-ware', ''): 1,\n",
       "          ('', '-way', ''): 1,\n",
       "          ('', '-whisper', ''): 2,\n",
       "          ('', '-will', ''): 14,\n",
       "          ('', '-willed', ''): 1,\n",
       "          ('', '-window', ''): 1,\n",
       "          ('', '-wink', ''): 1,\n",
       "          ('', '-work', ''): 3,\n",
       "          ('', '-written', ''): 1,\n",
       "          ('', '-yards', ''): 1,\n",
       "          ('', '-year', ''): 1,\n",
       "          ('A.', '', ''): 2,\n",
       "          ('C.', '', ''): 2,\n",
       "          ('E.', '', ''): 11,\n",
       "          ('F.', '', ''): 3,\n",
       "          ('I.', '', ''): 1,\n",
       "          ('K.', '', ''): 1,\n",
       "          ('M.', '', ''): 2,\n",
       "          ('N.', '', ''): 1,\n",
       "          ('S.', '', ''): 2,\n",
       "          ('W.', '', ''): 4})"
      ]
     },
     "execution_count": 12,
     "metadata": {},
     "output_type": "execute_result"
    }
   ],
   "source": [
    "print(len(en.tokens))       # returns number of tokens (document length)\n",
    "print(len(set(en.tokens)))  # returns number of unique tokens\n",
    "en.vocab()                  # returns frequency distribution"
   ]
  },
  {
   "cell_type": "code",
   "execution_count": 13,
   "metadata": {},
   "outputs": [
    {
     "data": {
      "image/png": "[encoded data removed]",
      "text/plain": [
       "<matplotlib.figure.Figure at 0x7fbb6324cc88>"
      ]
     },
     "metadata": {},
     "output_type": "display_data"
    }
   ],
   "source": [
    "en.plot(50) "
   ]
  },
  {
   "cell_type": "code",
   "execution_count": 18,
   "metadata": {},
   "outputs": [
    {
     "data": {
      "text/plain": [
       "0"
      ]
     },
     "execution_count": 18,
     "metadata": {},
     "output_type": "execute_result"
    }
   ],
   "source": [
    "en.count('cake')   "
   ]
  },
  {
   "cell_type": "code",
   "execution_count": 15,
   "metadata": {},
   "outputs": [
    {
     "data": {
      "image/png": "[encoded data removed]",
      "text/plain": [
       "<matplotlib.figure.Figure at 0x7fbb87656da0>"
      ]
     },
     "metadata": {},
     "output_type": "display_data"
    }
   ],
   "source": [
    "en.dispersion_plot(['Emma', 'Frank', 'Jane'])"
   ]
  },
  {
   "cell_type": "code",
   "execution_count": 17,
   "metadata": {},
   "outputs": [
    {
     "ename": "AttributeError",
     "evalue": "'tuple' object has no attribute 'isalpha'",
     "output_type": "error",
     "traceback": [
      "\u001b[0;31m---------------------------------------------------------------------------\u001b[0m",
      "\u001b[0;31mAttributeError\u001b[0m                            Traceback (most recent call last)",
      "\u001b[0;32m<ipython-input-17-03ddfb45b9e3>\u001b[0m in \u001b[0;36m<module>\u001b[0;34m()\u001b[0m\n\u001b[0;32m----> 1\u001b[0;31m \u001b[0men\u001b[0m\u001b[0;34m.\u001b[0m\u001b[0msimilar\u001b[0m\u001b[0;34m(\u001b[0m\u001b[0;34m'Emma'\u001b[0m\u001b[0;34m)\u001b[0m\u001b[0;34m\u001b[0m\u001b[0m\n\u001b[0m\u001b[1;32m      2\u001b[0m \u001b[0men\u001b[0m\u001b[0;34m.\u001b[0m\u001b[0msimilar\u001b[0m\u001b[0;34m(\u001b[0m\u001b[0;34m'Frank'\u001b[0m\u001b[0;34m)\u001b[0m\u001b[0;34m\u001b[0m\u001b[0m\n",
      "\u001b[0;32m/home/snu/anaconda3/lib/python3.6/site-packages/nltk/text.py\u001b[0m in \u001b[0;36msimilar\u001b[0;34m(self, word, num)\u001b[0m\n\u001b[1;32m    392\u001b[0m             self._word_context_index = ContextIndex(self.tokens,\n\u001b[1;32m    393\u001b[0m                                                     \u001b[0mfilter\u001b[0m\u001b[0;34m=\u001b[0m\u001b[0;32mlambda\u001b[0m \u001b[0mx\u001b[0m\u001b[0;34m:\u001b[0m\u001b[0mx\u001b[0m\u001b[0;34m.\u001b[0m\u001b[0misalpha\u001b[0m\u001b[0;34m(\u001b[0m\u001b[0;34m)\u001b[0m\u001b[0;34m,\u001b[0m\u001b[0;34m\u001b[0m\u001b[0m\n\u001b[0;32m--> 394\u001b[0;31m                                                     key=lambda s:s.lower())\n\u001b[0m\u001b[1;32m    395\u001b[0m \u001b[0;34m\u001b[0m\u001b[0m\n\u001b[1;32m    396\u001b[0m \u001b[0;31m#        words = self._word_context_index.similar_words(word, num)\u001b[0m\u001b[0;34m\u001b[0m\u001b[0;34m\u001b[0m\u001b[0m\n",
      "\u001b[0;32m/home/snu/anaconda3/lib/python3.6/site-packages/nltk/text.py\u001b[0m in \u001b[0;36m__init__\u001b[0;34m(self, tokens, context_func, filter, key)\u001b[0m\n\u001b[1;32m     54\u001b[0m             \u001b[0mself\u001b[0m\u001b[0;34m.\u001b[0m\u001b[0m_context_func\u001b[0m \u001b[0;34m=\u001b[0m \u001b[0mself\u001b[0m\u001b[0;34m.\u001b[0m\u001b[0m_default_context\u001b[0m\u001b[0;34m\u001b[0m\u001b[0m\n\u001b[1;32m     55\u001b[0m         \u001b[0;32mif\u001b[0m \u001b[0mfilter\u001b[0m\u001b[0;34m:\u001b[0m\u001b[0;34m\u001b[0m\u001b[0m\n\u001b[0;32m---> 56\u001b[0;31m             \u001b[0mtokens\u001b[0m \u001b[0;34m=\u001b[0m \u001b[0;34m[\u001b[0m\u001b[0mt\u001b[0m \u001b[0;32mfor\u001b[0m \u001b[0mt\u001b[0m \u001b[0;32min\u001b[0m \u001b[0mtokens\u001b[0m \u001b[0;32mif\u001b[0m \u001b[0mfilter\u001b[0m\u001b[0;34m(\u001b[0m\u001b[0mt\u001b[0m\u001b[0;34m)\u001b[0m\u001b[0;34m]\u001b[0m\u001b[0;34m\u001b[0m\u001b[0m\n\u001b[0m\u001b[1;32m     57\u001b[0m         self._word_to_contexts = CFD((self._key(w), self._context_func(tokens, i))\n\u001b[1;32m     58\u001b[0m                                      for i, w in enumerate(tokens))\n",
      "\u001b[0;32m/home/snu/anaconda3/lib/python3.6/site-packages/nltk/text.py\u001b[0m in \u001b[0;36m<listcomp>\u001b[0;34m(.0)\u001b[0m\n\u001b[1;32m     54\u001b[0m             \u001b[0mself\u001b[0m\u001b[0;34m.\u001b[0m\u001b[0m_context_func\u001b[0m \u001b[0;34m=\u001b[0m \u001b[0mself\u001b[0m\u001b[0;34m.\u001b[0m\u001b[0m_default_context\u001b[0m\u001b[0;34m\u001b[0m\u001b[0m\n\u001b[1;32m     55\u001b[0m         \u001b[0;32mif\u001b[0m \u001b[0mfilter\u001b[0m\u001b[0;34m:\u001b[0m\u001b[0;34m\u001b[0m\u001b[0m\n\u001b[0;32m---> 56\u001b[0;31m             \u001b[0mtokens\u001b[0m \u001b[0;34m=\u001b[0m \u001b[0;34m[\u001b[0m\u001b[0mt\u001b[0m \u001b[0;32mfor\u001b[0m \u001b[0mt\u001b[0m \u001b[0;32min\u001b[0m \u001b[0mtokens\u001b[0m \u001b[0;32mif\u001b[0m \u001b[0mfilter\u001b[0m\u001b[0;34m(\u001b[0m\u001b[0mt\u001b[0m\u001b[0;34m)\u001b[0m\u001b[0;34m]\u001b[0m\u001b[0;34m\u001b[0m\u001b[0m\n\u001b[0m\u001b[1;32m     57\u001b[0m         self._word_to_contexts = CFD((self._key(w), self._context_func(tokens, i))\n\u001b[1;32m     58\u001b[0m                                      for i, w in enumerate(tokens))\n",
      "\u001b[0;32m/home/snu/anaconda3/lib/python3.6/site-packages/nltk/text.py\u001b[0m in \u001b[0;36m<lambda>\u001b[0;34m(x)\u001b[0m\n\u001b[1;32m    391\u001b[0m             \u001b[0;31m#print('Building word-context index...')\u001b[0m\u001b[0;34m\u001b[0m\u001b[0;34m\u001b[0m\u001b[0m\n\u001b[1;32m    392\u001b[0m             self._word_context_index = ContextIndex(self.tokens,\n\u001b[0;32m--> 393\u001b[0;31m                                                     \u001b[0mfilter\u001b[0m\u001b[0;34m=\u001b[0m\u001b[0;32mlambda\u001b[0m \u001b[0mx\u001b[0m\u001b[0;34m:\u001b[0m\u001b[0mx\u001b[0m\u001b[0;34m.\u001b[0m\u001b[0misalpha\u001b[0m\u001b[0;34m(\u001b[0m\u001b[0;34m)\u001b[0m\u001b[0;34m,\u001b[0m\u001b[0;34m\u001b[0m\u001b[0m\n\u001b[0m\u001b[1;32m    394\u001b[0m                                                     key=lambda s:s.lower())\n\u001b[1;32m    395\u001b[0m \u001b[0;34m\u001b[0m\u001b[0m\n",
      "\u001b[0;31mAttributeError\u001b[0m: 'tuple' object has no attribute 'isalpha'"
     ]
    }
   ],
   "source": [
    "en.similar('Emma')\n",
    "en.similar('Frank')"
   ]
  },
  {
   "cell_type": "code",
   "execution_count": 19,
   "metadata": {},
   "outputs": [
    {
     "ename": "AttributeError",
     "evalue": "'tuple' object has no attribute 'lower'",
     "output_type": "error",
     "traceback": [
      "\u001b[0;31m---------------------------------------------------------------------------\u001b[0m",
      "\u001b[0;31mAttributeError\u001b[0m                            Traceback (most recent call last)",
      "\u001b[0;32m<ipython-input-19-ba17d3bfa9c7>\u001b[0m in \u001b[0;36m<module>\u001b[0;34m()\u001b[0m\n\u001b[0;32m----> 1\u001b[0;31m \u001b[0men\u001b[0m\u001b[0;34m.\u001b[0m\u001b[0mcollocations\u001b[0m\u001b[0;34m(\u001b[0m\u001b[0;34m)\u001b[0m\u001b[0;34m\u001b[0m\u001b[0m\n\u001b[0m",
      "\u001b[0;32m/home/snu/anaconda3/lib/python3.6/site-packages/nltk/text.py\u001b[0m in \u001b[0;36mcollocations\u001b[0;34m(self, num, window_size)\u001b[0m\n\u001b[1;32m    355\u001b[0m             \u001b[0mfinder\u001b[0m \u001b[0;34m=\u001b[0m \u001b[0mBigramCollocationFinder\u001b[0m\u001b[0;34m.\u001b[0m\u001b[0mfrom_words\u001b[0m\u001b[0;34m(\u001b[0m\u001b[0mself\u001b[0m\u001b[0;34m.\u001b[0m\u001b[0mtokens\u001b[0m\u001b[0;34m,\u001b[0m \u001b[0mwindow_size\u001b[0m\u001b[0;34m)\u001b[0m\u001b[0;34m\u001b[0m\u001b[0m\n\u001b[1;32m    356\u001b[0m             \u001b[0mfinder\u001b[0m\u001b[0;34m.\u001b[0m\u001b[0mapply_freq_filter\u001b[0m\u001b[0;34m(\u001b[0m\u001b[0;36m2\u001b[0m\u001b[0;34m)\u001b[0m\u001b[0;34m\u001b[0m\u001b[0m\n\u001b[0;32m--> 357\u001b[0;31m             \u001b[0mfinder\u001b[0m\u001b[0;34m.\u001b[0m\u001b[0mapply_word_filter\u001b[0m\u001b[0;34m(\u001b[0m\u001b[0;32mlambda\u001b[0m \u001b[0mw\u001b[0m\u001b[0;34m:\u001b[0m \u001b[0mlen\u001b[0m\u001b[0;34m(\u001b[0m\u001b[0mw\u001b[0m\u001b[0;34m)\u001b[0m \u001b[0;34m<\u001b[0m \u001b[0;36m3\u001b[0m \u001b[0;32mor\u001b[0m \u001b[0mw\u001b[0m\u001b[0;34m.\u001b[0m\u001b[0mlower\u001b[0m\u001b[0;34m(\u001b[0m\u001b[0;34m)\u001b[0m \u001b[0;32min\u001b[0m \u001b[0mignored_words\u001b[0m\u001b[0;34m)\u001b[0m\u001b[0;34m\u001b[0m\u001b[0m\n\u001b[0m\u001b[1;32m    358\u001b[0m             \u001b[0mbigram_measures\u001b[0m \u001b[0;34m=\u001b[0m \u001b[0mBigramAssocMeasures\u001b[0m\u001b[0;34m(\u001b[0m\u001b[0;34m)\u001b[0m\u001b[0;34m\u001b[0m\u001b[0m\n\u001b[1;32m    359\u001b[0m             \u001b[0mself\u001b[0m\u001b[0;34m.\u001b[0m\u001b[0m_collocations\u001b[0m \u001b[0;34m=\u001b[0m \u001b[0mfinder\u001b[0m\u001b[0;34m.\u001b[0m\u001b[0mnbest\u001b[0m\u001b[0;34m(\u001b[0m\u001b[0mbigram_measures\u001b[0m\u001b[0;34m.\u001b[0m\u001b[0mlikelihood_ratio\u001b[0m\u001b[0;34m,\u001b[0m \u001b[0mnum\u001b[0m\u001b[0;34m)\u001b[0m\u001b[0;34m\u001b[0m\u001b[0m\n",
      "\u001b[0;32m/home/snu/anaconda3/lib/python3.6/site-packages/nltk/collocations.py\u001b[0m in \u001b[0;36mapply_word_filter\u001b[0;34m(self, fn)\u001b[0m\n\u001b[1;32m    104\u001b[0m         ...) evaluates to True.\n\u001b[1;32m    105\u001b[0m         \"\"\"\n\u001b[0;32m--> 106\u001b[0;31m         \u001b[0mself\u001b[0m\u001b[0;34m.\u001b[0m\u001b[0m_apply_filter\u001b[0m\u001b[0;34m(\u001b[0m\u001b[0;32mlambda\u001b[0m \u001b[0mng\u001b[0m\u001b[0;34m,\u001b[0m \u001b[0mf\u001b[0m\u001b[0;34m:\u001b[0m \u001b[0many\u001b[0m\u001b[0;34m(\u001b[0m\u001b[0mfn\u001b[0m\u001b[0;34m(\u001b[0m\u001b[0mw\u001b[0m\u001b[0;34m)\u001b[0m \u001b[0;32mfor\u001b[0m \u001b[0mw\u001b[0m \u001b[0;32min\u001b[0m \u001b[0mng\u001b[0m\u001b[0;34m)\u001b[0m\u001b[0;34m)\u001b[0m\u001b[0;34m\u001b[0m\u001b[0m\n\u001b[0m\u001b[1;32m    107\u001b[0m \u001b[0;34m\u001b[0m\u001b[0m\n\u001b[1;32m    108\u001b[0m     \u001b[0;32mdef\u001b[0m \u001b[0m_score_ngrams\u001b[0m\u001b[0;34m(\u001b[0m\u001b[0mself\u001b[0m\u001b[0;34m,\u001b[0m \u001b[0mscore_fn\u001b[0m\u001b[0;34m)\u001b[0m\u001b[0;34m:\u001b[0m\u001b[0;34m\u001b[0m\u001b[0m\n",
      "\u001b[0;32m/home/snu/anaconda3/lib/python3.6/site-packages/nltk/collocations.py\u001b[0m in \u001b[0;36m_apply_filter\u001b[0;34m(self, fn)\u001b[0m\n\u001b[1;32m     86\u001b[0m         \u001b[0mtmp_ngram\u001b[0m \u001b[0;34m=\u001b[0m \u001b[0mFreqDist\u001b[0m\u001b[0;34m(\u001b[0m\u001b[0;34m)\u001b[0m\u001b[0;34m\u001b[0m\u001b[0m\n\u001b[1;32m     87\u001b[0m         \u001b[0;32mfor\u001b[0m \u001b[0mngram\u001b[0m\u001b[0;34m,\u001b[0m \u001b[0mfreq\u001b[0m \u001b[0;32min\u001b[0m \u001b[0miteritems\u001b[0m\u001b[0;34m(\u001b[0m\u001b[0mself\u001b[0m\u001b[0;34m.\u001b[0m\u001b[0mngram_fd\u001b[0m\u001b[0;34m)\u001b[0m\u001b[0;34m:\u001b[0m\u001b[0;34m\u001b[0m\u001b[0m\n\u001b[0;32m---> 88\u001b[0;31m             \u001b[0;32mif\u001b[0m \u001b[0;32mnot\u001b[0m \u001b[0mfn\u001b[0m\u001b[0;34m(\u001b[0m\u001b[0mngram\u001b[0m\u001b[0;34m,\u001b[0m \u001b[0mfreq\u001b[0m\u001b[0;34m)\u001b[0m\u001b[0;34m:\u001b[0m\u001b[0;34m\u001b[0m\u001b[0m\n\u001b[0m\u001b[1;32m     89\u001b[0m                 \u001b[0mtmp_ngram\u001b[0m\u001b[0;34m[\u001b[0m\u001b[0mngram\u001b[0m\u001b[0;34m]\u001b[0m \u001b[0;34m=\u001b[0m \u001b[0mfreq\u001b[0m\u001b[0;34m\u001b[0m\u001b[0m\n\u001b[1;32m     90\u001b[0m         \u001b[0mself\u001b[0m\u001b[0;34m.\u001b[0m\u001b[0mngram_fd\u001b[0m \u001b[0;34m=\u001b[0m \u001b[0mtmp_ngram\u001b[0m\u001b[0;34m\u001b[0m\u001b[0m\n",
      "\u001b[0;32m/home/snu/anaconda3/lib/python3.6/site-packages/nltk/collocations.py\u001b[0m in \u001b[0;36m<lambda>\u001b[0;34m(ng, f)\u001b[0m\n\u001b[1;32m    104\u001b[0m         ...) evaluates to True.\n\u001b[1;32m    105\u001b[0m         \"\"\"\n\u001b[0;32m--> 106\u001b[0;31m         \u001b[0mself\u001b[0m\u001b[0;34m.\u001b[0m\u001b[0m_apply_filter\u001b[0m\u001b[0;34m(\u001b[0m\u001b[0;32mlambda\u001b[0m \u001b[0mng\u001b[0m\u001b[0;34m,\u001b[0m \u001b[0mf\u001b[0m\u001b[0;34m:\u001b[0m \u001b[0many\u001b[0m\u001b[0;34m(\u001b[0m\u001b[0mfn\u001b[0m\u001b[0;34m(\u001b[0m\u001b[0mw\u001b[0m\u001b[0;34m)\u001b[0m \u001b[0;32mfor\u001b[0m \u001b[0mw\u001b[0m \u001b[0;32min\u001b[0m \u001b[0mng\u001b[0m\u001b[0;34m)\u001b[0m\u001b[0;34m)\u001b[0m\u001b[0;34m\u001b[0m\u001b[0m\n\u001b[0m\u001b[1;32m    107\u001b[0m \u001b[0;34m\u001b[0m\u001b[0m\n\u001b[1;32m    108\u001b[0m     \u001b[0;32mdef\u001b[0m \u001b[0m_score_ngrams\u001b[0m\u001b[0;34m(\u001b[0m\u001b[0mself\u001b[0m\u001b[0;34m,\u001b[0m \u001b[0mscore_fn\u001b[0m\u001b[0;34m)\u001b[0m\u001b[0;34m:\u001b[0m\u001b[0;34m\u001b[0m\u001b[0m\n",
      "\u001b[0;32m/home/snu/anaconda3/lib/python3.6/site-packages/nltk/collocations.py\u001b[0m in \u001b[0;36m<genexpr>\u001b[0;34m(.0)\u001b[0m\n\u001b[1;32m    104\u001b[0m         ...) evaluates to True.\n\u001b[1;32m    105\u001b[0m         \"\"\"\n\u001b[0;32m--> 106\u001b[0;31m         \u001b[0mself\u001b[0m\u001b[0;34m.\u001b[0m\u001b[0m_apply_filter\u001b[0m\u001b[0;34m(\u001b[0m\u001b[0;32mlambda\u001b[0m \u001b[0mng\u001b[0m\u001b[0;34m,\u001b[0m \u001b[0mf\u001b[0m\u001b[0;34m:\u001b[0m \u001b[0many\u001b[0m\u001b[0;34m(\u001b[0m\u001b[0mfn\u001b[0m\u001b[0;34m(\u001b[0m\u001b[0mw\u001b[0m\u001b[0;34m)\u001b[0m \u001b[0;32mfor\u001b[0m \u001b[0mw\u001b[0m \u001b[0;32min\u001b[0m \u001b[0mng\u001b[0m\u001b[0;34m)\u001b[0m\u001b[0;34m)\u001b[0m\u001b[0;34m\u001b[0m\u001b[0m\n\u001b[0m\u001b[1;32m    107\u001b[0m \u001b[0;34m\u001b[0m\u001b[0m\n\u001b[1;32m    108\u001b[0m     \u001b[0;32mdef\u001b[0m \u001b[0m_score_ngrams\u001b[0m\u001b[0;34m(\u001b[0m\u001b[0mself\u001b[0m\u001b[0;34m,\u001b[0m \u001b[0mscore_fn\u001b[0m\u001b[0;34m)\u001b[0m\u001b[0;34m:\u001b[0m\u001b[0;34m\u001b[0m\u001b[0m\n",
      "\u001b[0;32m/home/snu/anaconda3/lib/python3.6/site-packages/nltk/text.py\u001b[0m in \u001b[0;36m<lambda>\u001b[0;34m(w)\u001b[0m\n\u001b[1;32m    355\u001b[0m             \u001b[0mfinder\u001b[0m \u001b[0;34m=\u001b[0m \u001b[0mBigramCollocationFinder\u001b[0m\u001b[0;34m.\u001b[0m\u001b[0mfrom_words\u001b[0m\u001b[0;34m(\u001b[0m\u001b[0mself\u001b[0m\u001b[0;34m.\u001b[0m\u001b[0mtokens\u001b[0m\u001b[0;34m,\u001b[0m \u001b[0mwindow_size\u001b[0m\u001b[0;34m)\u001b[0m\u001b[0;34m\u001b[0m\u001b[0m\n\u001b[1;32m    356\u001b[0m             \u001b[0mfinder\u001b[0m\u001b[0;34m.\u001b[0m\u001b[0mapply_freq_filter\u001b[0m\u001b[0;34m(\u001b[0m\u001b[0;36m2\u001b[0m\u001b[0;34m)\u001b[0m\u001b[0;34m\u001b[0m\u001b[0m\n\u001b[0;32m--> 357\u001b[0;31m             \u001b[0mfinder\u001b[0m\u001b[0;34m.\u001b[0m\u001b[0mapply_word_filter\u001b[0m\u001b[0;34m(\u001b[0m\u001b[0;32mlambda\u001b[0m \u001b[0mw\u001b[0m\u001b[0;34m:\u001b[0m \u001b[0mlen\u001b[0m\u001b[0;34m(\u001b[0m\u001b[0mw\u001b[0m\u001b[0;34m)\u001b[0m \u001b[0;34m<\u001b[0m \u001b[0;36m3\u001b[0m \u001b[0;32mor\u001b[0m \u001b[0mw\u001b[0m\u001b[0;34m.\u001b[0m\u001b[0mlower\u001b[0m\u001b[0;34m(\u001b[0m\u001b[0;34m)\u001b[0m \u001b[0;32min\u001b[0m \u001b[0mignored_words\u001b[0m\u001b[0;34m)\u001b[0m\u001b[0;34m\u001b[0m\u001b[0m\n\u001b[0m\u001b[1;32m    358\u001b[0m             \u001b[0mbigram_measures\u001b[0m \u001b[0;34m=\u001b[0m \u001b[0mBigramAssocMeasures\u001b[0m\u001b[0;34m(\u001b[0m\u001b[0;34m)\u001b[0m\u001b[0;34m\u001b[0m\u001b[0m\n\u001b[1;32m    359\u001b[0m             \u001b[0mself\u001b[0m\u001b[0;34m.\u001b[0m\u001b[0m_collocations\u001b[0m \u001b[0;34m=\u001b[0m \u001b[0mfinder\u001b[0m\u001b[0;34m.\u001b[0m\u001b[0mnbest\u001b[0m\u001b[0;34m(\u001b[0m\u001b[0mbigram_measures\u001b[0m\u001b[0;34m.\u001b[0m\u001b[0mlikelihood_ratio\u001b[0m\u001b[0;34m,\u001b[0m \u001b[0mnum\u001b[0m\u001b[0;34m)\u001b[0m\u001b[0;34m\u001b[0m\u001b[0m\n",
      "\u001b[0;31mAttributeError\u001b[0m: 'tuple' object has no attribute 'lower'"
     ]
    }
   ],
   "source": [
    "en.collocations()"
   ]
  },
  {
   "cell_type": "code",
   "execution_count": null,
   "metadata": {
    "collapsed": true
   },
   "outputs": [],
   "source": []
  }
 ],
 "metadata": {
  "kernelspec": {
   "display_name": "Python 3",
   "language": "python",
   "name": "python3"
  },
  "language_info": {
   "codemirror_mode": {
    "name": "ipython",
    "version": 3
   },
   "file_extension": ".py",
   "mimetype": "text/x-python",
   "name": "python",
   "nbconvert_exporter": "python",
   "pygments_lexer": "ipython3",
   "version": "3.6.1"
  }
 },
 "nbformat": 4,
 "nbformat_minor": 2
}
